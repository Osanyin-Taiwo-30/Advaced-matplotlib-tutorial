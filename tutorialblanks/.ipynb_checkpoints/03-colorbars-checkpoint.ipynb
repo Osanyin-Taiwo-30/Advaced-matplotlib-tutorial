{
 "cells": [
  {
   "cell_type": "markdown",
   "metadata": {},
   "source": [
    "![Matplotlib logo](https://matplotlib.org/stable/_images/sphx_glr_logos2_003.png)"
   ]
  },
  {
   "cell_type": "markdown",
   "metadata": {},
   "source": [
    "# Additional Topics: Colorbars"
   ]
  },
  {
   "cell_type": "markdown",
   "metadata": {},
   "source": [
    "---"
   ]
  },
  {
   "cell_type": "markdown",
   "metadata": {},
   "source": [
    "## Learning Objectives\n",
    "- Learning more about colorbars in matplotlib\n",
    "- Creating a plot with a shared colorbar\n",
    "- Creating a custom colorbar\n",
    "- Bonus: making a 2D histogram"
   ]
  },
  {
   "cell_type": "markdown",
   "metadata": {},
   "source": [
    "## Prerequisites\n",
    "\n",
    "\n",
    "| Concepts | Importance |\n",
    "| --- | --- |\n",
    "| Basic familiarity with NumPy | Necessary |\n",
    "| Basic familiarity with Matplotlib | Necessary |\n",
    "\n",
    "- **Time to learn**: *15-20 minutes*\n"
   ]
  },
  {
   "cell_type": "markdown",
   "metadata": {},
   "source": [
    "---"
   ]
  },
  {
   "cell_type": "markdown",
   "metadata": {},
   "source": [
    "## Imports"
   ]
  },
  {
   "cell_type": "code",
   "execution_count": 1,
   "metadata": {},
   "outputs": [],
   "source": [
    "from matplotlib import pyplot as plt\n",
    "import numpy as np"
   ]
  },
  {
   "cell_type": "markdown",
   "metadata": {},
   "source": [
    "## Learning a little about colormaps"
   ]
  },
  {
   "cell_type": "markdown",
   "metadata": {},
   "source": [
    "### Classes of colormaps\n",
    "\n",
    "1. **Sequential:** change in lightness and/or saturation of color incrementally. Good for data that has ordering\n",
    "![Perceptually Sequential](../images/perceptually-sequential.png)\n",
    "![Sequential](../images/sequential.png)\n",
    "![Sequential2](../images/sequential2.png)\n",
    "\n",
    "![Perceptually Sequential](../images/ps.png)\n",
    "![Sequential](../images/s1.png)\n",
    "![Sequential2](../images/s2.png)\n",
    "\n",
    "1. **Diverging:** change in lightness and/or saturation of two different colors that meet in the middle at an unsaturated color. Should be used when the data has a natural zero point, such as sea level.\n",
    "![Diverging](../images/diverging.png)\n",
    "![Diverging](../images/d.png)\n",
    "\n",
    "1. **Cyclic:** change in lightness of two different colors that meet in the middle and begin and end at an unsaturated color. Should be used for values that naturally wrap around.\n",
    "![Cyclic](../images/cyclic.png)\n",
    "![Cyclic](../images/c.png)\n",
    "\n",
    "1. **Qualitative:** miscellaneous color. Should not be used for data that has ordering or relationships\n",
    "![Qualitative](../images/qualitative.png)\n",
    "![Miscellanous](../images/misc.png)\n",
    "![Miscellanous](../images/m.png)"
   ]
  },
  {
   "cell_type": "markdown",
   "metadata": {},
   "source": [
    "### Other considerations:\n",
    "\n",
    "There is a lot of info about choosing colormaps that could be it's own tutorial. The most important things that I've come across is two things:\n",
    "1. Color blind friendly patterns: avoiding colormaps with both red and green can account for the most common form of color blindness. The GeoCAT-examples gallery has a section devoted to picking better colormaps [here](https://geocat-examples.readthedocs.io/en/latest/gallery/index.html#colors) that covers this.\n",
    "\n",
    "1. Grayscale conversion: It is not uncommon for plots rendered in color to be printed in black and white, obscuring the usefulness of a chosen colormap\n",
    "\n",
    "![hsv colormap in grayscale](../images/hsv2gray.png)\n",
    "\n",
    "- See [Choosing Colormaps in Matplotlib](https://matplotlib.org/stable/tutorials/colors/colormaps.html) for a more in depth version of this section"
   ]
  },
  {
   "cell_type": "markdown",
   "metadata": {},
   "source": [
    "## Basic Colorbar"
   ]
  },
  {
   "cell_type": "code",
   "execution_count": 2,
   "metadata": {},
   "outputs": [],
   "source": [
    "npts = 1000\n",
    "nbins = 15\n",
    "\n",
    "x = np.random.normal(size=npts)\n",
    "y = np.random.normal(size=npts)"
   ]
  },
  {
   "cell_type": "code",
   "execution_count": 3,
   "metadata": {},
   "outputs": [
    {
     "data": {
      "text/plain": [
       "<matplotlib.colorbar.Colorbar at 0x161a1f970>"
      ]
     },
     "execution_count": 3,
     "metadata": {},
     "output_type": "execute_result"
    },
    {
     "data": {
      "image/png": "[encoded data removed]",
      "text/plain": [
       "<Figure size 432x288 with 2 Axes>"
      ]
     },
     "metadata": {
      "needs_background": "light"
     },
     "output_type": "display_data"
    }
   ],
   "source": [
    "fig = plt.figure()\n",
    "ax = plt.gca()\n",
    "\n",
    "plt.hist2d(x, y, bins=nbins, density=True)\n",
    "plt.colorbar()"
   ]
  },
  {
   "cell_type": "markdown",
   "metadata": {},
   "source": [
    "## Shared colorbar"
   ]
  },
  {
   "cell_type": "code",
   "execution_count": 4,
   "metadata": {},
   "outputs": [
    {
     "data": {
      "image/png": "[encoded data removed]",
      "text/plain": [
       "<Figure size 432x288 with 3 Axes>"
      ]
     },
     "metadata": {
      "needs_background": "light"
     },
     "output_type": "display_data"
    }
   ],
   "source": [
    "fig, ax = plt.subplots(nrows=1, ncols=2, constrained_layout=True)\n",
    "\n",
    "hist1 = ax[0].hist2d(x, y, bins=15, density=True, vmax=0.18)\n",
    "hist2 = ax[1].hist2d(x, y, bins=30, density=True, vmax=0.18)\n",
    "\n",
    "cbar = fig.colorbar(hist1[3], ax=ax, location='bottom')"
   ]
  },
  {
   "cell_type": "markdown",
   "metadata": {},
   "source": [
    "## Custom colorbar"
   ]
  },
  {
   "cell_type": "code",
   "execution_count": 5,
   "metadata": {},
   "outputs": [
    {
     "data": {
      "image/png": "[encoded data removed]",
      "text/plain": [
       "<Figure size 432x288 with 3 Axes>"
      ]
     },
     "metadata": {
      "needs_background": "light"
     },
     "output_type": "display_data"
    }
   ],
   "source": [
    "from matplotlib.colors import Normalize, ListedColormap\n",
    "\n",
    "colors = ['white','pink','red','orange','yellow','green','blue','purple','black']\n",
    "ccmap = ListedColormap(colors)\n",
    "norm = Normalize(vmin=0, vmax=0.18)\n",
    "\n",
    "fig, ax = plt.subplots(nrows=1, ncols=2, constrained_layout=True)\n",
    "\n",
    "hist1 = ax[0].hist2d(x, y, bins=15, density=True, cmap=ccmap, norm=norm)\n",
    "hist2 = ax[1].hist2d(x, y, bins=30, density=True, cmap=ccmap, norm=norm)\n",
    "\n",
    "cbar = fig.colorbar(hist1[3], ax=ax, location='bottom')"
   ]
  },
  {
   "cell_type": "code",
   "execution_count": 6,
   "metadata": {},
   "outputs": [
    {
     "data": {
      "image/png": "[encoded data removed]",
      "text/plain": [
       "<Figure size 432x288 with 3 Axes>"
      ]
     },
     "metadata": {
      "needs_background": "light"
     },
     "output_type": "display_data"
    }
   ],
   "source": [
    "from matplotlib.colors import LinearSegmentedColormap\n",
    "\n",
    "cbcmap = LinearSegmentedColormap.from_list(\"cbcmap\", colors)\n",
    "\n",
    "fig, ax = plt.subplots(nrows=1, ncols=2, constrained_layout=True)\n",
    "\n",
    "hist1 = ax[0].hist2d(x, y, bins=15, density=True, cmap=cbcmap, norm=norm)\n",
    "hist2 = ax[1].hist2d(x, y, bins=30, density=True, cmap=cbcmap, norm=norm)\n",
    "\n",
    "cbar = fig.colorbar(hist1[3], ax=ax, location='bottom')"
   ]
  },
  {
   "cell_type": "markdown",
   "metadata": {},
   "source": [
    "---"
   ]
  },
  {
   "cell_type": "markdown",
   "metadata": {},
   "source": [
    "## Additional Resources\n",
    "- [Plot Types Cheat Sheet](https://lnkd.in/dD5fE8V)\n",
    "- [Choosing Colormaps in Matplotlib](https://matplotlib.org/stable/tutorials/colors/colormaps.html)\n",
    "- [Making custom colormaps](https://matplotlib.org/stable/tutorials/colors/colormap-manipulation.html)"
   ]
  }
 ],
 "metadata": {
  "kernelspec": {
   "display_name": "Python 3 (ipykernel)",
   "language": "python",
   "name": "python3"
  },
  "language_info": {
   "codemirror_mode": {
    "name": "ipython",
    "version": 3
   },
   "file_extension": ".py",
   "mimetype": "text/x-python",
   "name": "python",
   "nbconvert_exporter": "python",
   "pygments_lexer": "ipython3",
   "version": "3.9.7"
  }
 },
 "nbformat": 4,
 "nbformat_minor": 4
}
