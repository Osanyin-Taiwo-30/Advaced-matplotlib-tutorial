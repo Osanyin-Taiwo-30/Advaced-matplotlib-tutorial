{
 "cells": [
  {
   "cell_type": "markdown",
   "metadata": {},
   "source": [
    "![Matplotlib logo](https://matplotlib.org/stable/_images/sphx_glr_logos2_003.png)"
   ]
  },
  {
   "cell_type": "markdown",
   "metadata": {},
   "source": [
    "# Additional Topics: Colorbars"
   ]
  },
  {
   "cell_type": "markdown",
   "metadata": {},
   "source": [
    "---"
   ]
  },
  {
   "cell_type": "markdown",
   "metadata": {},
   "source": [
    "## Learning Objectives\n",
    "- Learning more about colorbars in matplotlib\n",
    "- Creating a plot with a shared colorbar\n",
    "- Creating a custom colorbar\n",
    "- Bonus: making a 2D histogram\n",
    "- Bonus: subplot manipulation"
   ]
  },
  {
   "cell_type": "markdown",
   "metadata": {},
   "source": [
    "## Prerequisites\n",
    "\n",
    "\n",
    "| Concepts | Importance |\n",
    "| --- | --- |\n",
    "| Basic familiarity with NumPy | Necessary |\n",
    "| Basic familiarity with Matplotlib | Necessary |\n",
    "\n",
    "- **Time to learn**: *15-20 minutes*\n"
   ]
  },
  {
   "cell_type": "markdown",
   "metadata": {},
   "source": [
    "---"
   ]
  },
  {
   "cell_type": "markdown",
   "metadata": {},
   "source": [
    "## Imports"
   ]
  },
  {
   "cell_type": "code",
   "execution_count": 1,
   "metadata": {},
   "outputs": [],
   "source": [
    "from matplotlib import pyplot as plt\n",
    "import numpy as np"
   ]
  },
  {
   "cell_type": "markdown",
   "metadata": {},
   "source": [
    "## Learning a little about colormaps"
   ]
  },
  {
   "cell_type": "markdown",
   "metadata": {},
   "source": [
    "### Classes of colormaps\n",
    "\n",
    "1. **Sequential:** change in lightness and/or saturation of color incrementally. Good for data that has ordering\n",
    "![Perceptually Sequential](../images/perceptually-sequential.png)\n",
    "![Sequential](../images/sequential.png)\n",
    "![Sequential2](../images/sequential2.png)\n",
    "\n",
    "![Perceptually Sequential](../images/ps.png)\n",
    "![Sequential](../images/s1.png)\n",
    "![Sequential2](../images/s2.png)\n",
    "\n",
    "1. **Diverging:** change in lightness and/or saturation of two different colors that meet in the middle at an unsaturated color. Should be used when the data has a natural zero point, such as sea level.\n",
    "![Diverging](../images/diverging.png)\n",
    "![Diverging](../images/d.png)\n",
    "\n",
    "1. **Cyclic:** change in lightness of two different colors that meet in the middle and begin and end at an unsaturated color. Should be used for values that naturally wrap around.\n",
    "![Cyclic](../images/cyclic.png)\n",
    "![Cyclic](../images/c.png)\n",
    "\n",
    "1. **Qualitative:** miscellaneous color. Should not be used for data that has ordering or relationships\n",
    "![Qualitative](../images/qualitative.png)\n",
    "![Miscellanous](../images/misc.png)\n",
    "![Miscellanous](../images/m.png)"
   ]
  },
  {
   "cell_type": "markdown",
   "metadata": {},
   "source": [
    "### Other considerations:\n",
    "\n",
    "There is a lot of info about choosing colormaps that could be it's own tutorial. The most important things that I've come across is two things:\n",
    "1. Color blind friendly patterns: avoiding colormaps with both red and green can account for the most common form of color blindness. The GeoCAT-examples gallery has a section devoted to picking better colormaps [here](https://geocat-examples.readthedocs.io/en/latest/gallery/index.html#colors) that covers this.\n",
    "\n",
    "1. Grayscale conversion: It is not uncommon for plots rendered in color to be printed in black and white, obscuring the usefulness of a chosen colormap\n",
    "\n",
    "![hsv colormap in grayscale](../images/hsv2gray.png)\n",
    "\n",
    "- See [Choosing Colormaps in Matplotlib](https://matplotlib.org/stable/tutorials/colors/colormaps.html) for a more in depth version of this section"
   ]
  },
  {
   "cell_type": "markdown",
   "metadata": {},
   "source": [
    "## Basic Colorbar"
   ]
  },
  {
   "cell_type": "code",
   "execution_count": 2,
   "metadata": {},
   "outputs": [],
   "source": [
    "npts = 1000\n",
    "nbins = 15\n",
    "\n",
    "x = np.random.normal(size=npts)\n",
    "y = np.random.normal(size=npts)"
   ]
  },
  {
   "cell_type": "code",
   "execution_count": 3,
   "metadata": {},
   "outputs": [
    {
     "data": {
      "text/plain": [
       "<matplotlib.colorbar.Colorbar at 0x15764ca30>"
      ]
     },
     "execution_count": 3,
     "metadata": {},
     "output_type": "execute_result"
    },
    {
     "data": {
      "image/png": "[encoded data removed]",
      "text/plain": [
       "<Figure size 432x288 with 2 Axes>"
      ]
     },
     "metadata": {
      "needs_background": "light"
     },
     "output_type": "display_data"
    }
   ],
   "source": [
    "fig = plt.figure()\n",
    "ax = plt.gca()\n",
    "\n",
    "plt.hist2d(x, y, bins=nbins, density=True)\n",
    "plt.colorbar()"
   ]
  },
  {
   "cell_type": "markdown",
   "metadata": {},
   "source": [
    "## Shared colorbar"
   ]
  },
  {
   "cell_type": "code",
   "execution_count": 4,
   "metadata": {},
   "outputs": [
    {
     "data": {
      "image/png": "[encoded data removed]",
      "text/plain": [
       "<Figure size 432x288 with 3 Axes>"
      ]
     },
     "metadata": {
      "needs_background": "light"
     },
     "output_type": "display_data"
    }
   ],
   "source": [
    "fig, ax = plt.subplots(nrows=1, ncols=2, constrained_layout=True)\n",
    "\n",
    "hist1 = ax[0].hist2d(x, y, bins=15, density=True, vmax=0.18)\n",
    "hist2 = ax[1].hist2d(x, y, bins=30, density=True, vmax=0.18)\n",
    "\n",
    "cbar = fig.colorbar(hist1[3], ax=ax, location='bottom')"
   ]
  },
  {
   "cell_type": "markdown",
   "metadata": {},
   "source": [
    "## Custom colorbar"
   ]
  },
  {
   "cell_type": "code",
   "execution_count": 17,
   "metadata": {},
   "outputs": [
    {
     "data": {
      "image/png": "[encoded data removed]",
      "text/plain": [
       "<Figure size 432x288 with 3 Axes>"
      ]
     },
     "metadata": {
      "needs_background": "light"
     },
     "output_type": "display_data"
    }
   ],
   "source": [
    "from matplotlib.colors import Normalize, ListedColormap\n",
    "\n",
    "colors = ['white','pink','red','orange','yellow','green','blue','purple','black']\n",
    "ccmap = ListedColormap(colors)\n",
    "norm = Normalize(vmin=0, vmax=0.18)\n",
    "\n",
    "fig, ax = plt.subplots(nrows=1, ncols=2, constrained_layout=True)\n",
    "\n",
    "hist1 = ax[0].hist2d(x, y, bins=15, density=True, cmap=ccmap, norm=norm)\n",
    "hist2 = ax[1].hist2d(x, y, bins=30, density=True, cmap=ccmap, norm=norm)\n",
    "\n",
    "cbar = fig.colorbar(hist1[3], ax=ax, location='bottom')"
   ]
  },
  {
   "cell_type": "code",
   "execution_count": 6,
   "metadata": {},
   "outputs": [
    {
     "data": {
      "image/png": "[encoded data removed]",
      "text/plain": [
       "<Figure size 432x288 with 3 Axes>"
      ]
     },
     "metadata": {
      "needs_background": "light"
     },
     "output_type": "display_data"
    }
   ],
   "source": [
    "from matplotlib.colors import LinearSegmentedColormap\n",
    "\n",
    "cbcmap = LinearSegmentedColormap.from_list(\"cbcmap\", colors)\n",
    "\n",
    "fig, ax = plt.subplots(nrows=1, ncols=2, constrained_layout=True)\n",
    "\n",
    "hist1 = ax[0].hist2d(x, y, bins=15, density=True, cmap=cbcmap, norm=norm)\n",
    "hist2 = ax[1].hist2d(x, y, bins=30, density=True, cmap=cbcmap, norm=norm)\n",
    "\n",
    "cbar = fig.colorbar(hist1[3], ax=ax, location='bottom')"
   ]
  },
  {
   "cell_type": "markdown",
   "metadata": {},
   "source": [
    "## Colorbar: Challenge Section"
   ]
  },
  {
   "cell_type": "markdown",
   "metadata": {},
   "source": [
    "### Advanced Colormap Manipulation"
   ]
  },
  {
   "cell_type": "code",
   "execution_count": 7,
   "metadata": {},
   "outputs": [
    {
     "data": {
      "image/png": "[encoded data removed]",
      "text/html": [
       "<div style=\"vertical-align: middle;\"><strong>prettycmap</strong> </div><div class=\"cmap\"><img alt=\"prettycmap colormap\" title=\"prettycmap\" style=\"border: 1px solid #555;\" src=\"data:image/png;base64,iVBORw0KGgoAAAANSUhEUgAAAgAAAABACAYAAABsv8+/AAAAGXRFWHRUaXRsZQBwcmV0dHljbWFwIGNvbG9ybWFww/orNQAAAB90RVh0RGVzY3JpcHRpb24AcHJldHR5Y21hcCBjb2xvcm1hcLnS6nsAAAAwdEVYdEF1dGhvcgBNYXRwbG90bGliIHYzLjQuMywgaHR0cHM6Ly9tYXRwbG90bGliLm9yZwld89MAAAAydEVYdFNvZnR3YXJlAE1hdHBsb3RsaWIgdjMuNC4zLCBodHRwczovL21hdHBsb3RsaWIub3JnJ/ts9AAAAeFJREFUeJzt1kFuozAAQFGTzO176OmiTaUQO4RRs5n/3obagAUWUf/2MT7+jjHGuG5jjDG2P5fv49d4/Izv57frZXf+/v6xG9+uP1x3f//1Mp9f3D+u8/WOnutx3f3zzN9//Vy791w812r/fs4vbNvJ+cUfj/PT4fr8w/z8wtV6i8edvMc2O7xw36vz9xcc7sub9/l4/l37fJufn1hdf7ze7oH2o5e/r/3Ct8PzC/99n+9PnP2+js6f3efX9+td+zyfOPt9/fY+H+/Xu/b5Njz3e1wMf32fj7675/9lAID/kgAAgCABAABBAgAAggQAAAQJAAAIEgAAECQAACBIAABAkAAAgCABAABBAgAAggQAAAQJAAAIEgAAECQAACBIAABAkAAAgCABAABBAgAAggQAAAQJAAAIEgAAECQAACBIAABAkAAAgCABAABBAgAAggQAAAQJAAAIEgAAECQAACBIAABAkAAAgCABAABBAgAAggQAAAQJAAAIEgAAECQAACBIAABAkAAAgCABAABBAgAAggQAAAQJAAAIEgAAECQAACBIAABAkAAAgCABAABBAgAAggQAAAQJAAAIEgAAECQAACBIAABAkAAAgCABAABBAgAAggQAAAQJAAAIEgAAEPQJyKMEXnflQ40AAAAASUVORK5CYII=\"></div><div style=\"vertical-align: middle; max-width: 514px; display: flex; justify-content: space-between;\"><div style=\"float: left;\"><div title=\"#8b008bff\" style=\"display: inline-block; width: 1em; height: 1em; margin: 0; vertical-align: middle; border: 1px solid #555; background-color: #8b008bff;\"></div> under</div><div style=\"margin: 0 auto; display: inline-block;\">bad <div title=\"#00000000\" style=\"display: inline-block; width: 1em; height: 1em; margin: 0; vertical-align: middle; border: 1px solid #555; background-color: #00000000;\"></div></div><div style=\"float: right;\">over <div title=\"#f0fff0ff\" style=\"display: inline-block; width: 1em; height: 1em; margin: 0; vertical-align: middle; border: 1px solid #555; background-color: #f0fff0ff;\"></div></div>"
      ],
      "text/plain": [
       "<matplotlib.colors.LinearSegmentedColormap at 0x15799fb20>"
      ]
     },
     "execution_count": 7,
     "metadata": {},
     "output_type": "execute_result"
    }
   ],
   "source": [
    "colors = ['darkmagenta', 'lightsteelblue', 'honeydew']\n",
    "nodes = [0.0, 0.2, 1.0]\n",
    "prettycmap = LinearSegmentedColormap.from_list(\"prettycmap\", list(zip(nodes, colors)))\n",
    "prettycmap"
   ]
  },
  {
   "cell_type": "code",
   "execution_count": 8,
   "metadata": {},
   "outputs": [
    {
     "data": {
      "text/plain": [
       "array([[0.54509804, 0.        , 0.54509804, 1.        ],\n",
       "       [0.5479431 , 0.01507113, 0.5514802 , 1.        ],\n",
       "       [0.55078816, 0.03014225, 0.55786236, 1.        ],\n",
       "       ...,\n",
       "       [0.93871588, 0.99773164, 0.94048443, 1.        ],\n",
       "       [0.93994617, 0.99886582, 0.94083045, 1.        ],\n",
       "       [0.94117647, 1.        , 0.94117647, 1.        ]])"
      ]
     },
     "execution_count": 8,
     "metadata": {},
     "output_type": "execute_result"
    }
   ],
   "source": [
    "altcolors = prettycmap(np.linspace(0, 1, 256))\n",
    "altcolors"
   ]
  },
  {
   "cell_type": "code",
   "execution_count": 9,
   "metadata": {},
   "outputs": [
    {
     "data": {
      "image/png": "[encoded data removed]",
      "text/html": [
       "<div style=\"vertical-align: middle;\"><strong>from_list</strong> </div><div class=\"cmap\"><img alt=\"from_list colormap\" title=\"from_list\" style=\"border: 1px solid #555;\" src=\"data:image/png;base64,iVBORw0KGgoAAAANSUhEUgAAAgAAAABACAYAAABsv8+/AAAAGHRFWHRUaXRsZQBmcm9tX2xpc3QgY29sb3JtYXBDL89FAAAAHnRFWHREZXNjcmlwdGlvbgBmcm9tX2xpc3QgY29sb3JtYXABtCnOAAAAMHRFWHRBdXRob3IATWF0cGxvdGxpYiB2My40LjMsIGh0dHBzOi8vbWF0cGxvdGxpYi5vcmcJXfPTAAAAMnRFWHRTb2Z0d2FyZQBNYXRwbG90bGliIHYzLjQuMywgaHR0cHM6Ly9tYXRwbG90bGliLm9yZyf7bPQAAAHzSURBVHic7dYxUsJAGIbhf4mXsLbyOs7YeCUuYmnhgazsPYEWIDMJuxIUG77naSC7SWZZI7xtW9vPqqqaWlVVtZvN/nV3XIfj+XibNov5+fW1OP4+/+R9l9dPm/744Pqa+vc7ta7j+y7X0//843UtPudgXaP9O8wPtHbm+ODN8Xj3cDx/NN4/cXS/wXI7n6P1XlZct3Z8fsLJffnlPj/evfQvvFKv7w9Vdbl9Hj8WP5+4+vkbPl/7v+OZz9ep+TaYWP9/PBr/r32eD9zeP/cXeqU+3p52b/74vTc4HO7z5b/3dhM//8oAAFdJAABAIAEAAIEEAAAEEgAAEEgAAEAgAQAAgQQAAAQSAAAQSAAAQCABAACBBAAABBIAABBIAABAIAEAAIEEAAAEEgAAEEgAAEAgAQAAgQQAAAQSAAAQSAAAQCABAACBBAAABBIAABBIAABAIAEAAIEEAAAEEgAAEEgAAEAgAQAAgQQAAAQSAAAQSAAAQCABAACBBAAABBIAABBIAABAIAEAAIEEAAAEEgAAEEgAAEAgAQAAgQQAAAQSAAAQSAAAQCABAACBBAAABBIAABBIAABAIAEAAIEEAAAEEgAAEEgAAEAgAQAAgQQAAAQSAAAQSAAAQCABAACBBAAABBIAABBIAABAIAEAAIG+ABwpCl7Stl0bAAAAAElFTkSuQmCC\"></div><div style=\"vertical-align: middle; max-width: 514px; display: flex; justify-content: space-between;\"><div style=\"float: left;\"><div title=\"#8b008bff\" style=\"display: inline-block; width: 1em; height: 1em; margin: 0; vertical-align: middle; border: 1px solid #555; background-color: #8b008bff;\"></div> under</div><div style=\"margin: 0 auto; display: inline-block;\">bad <div title=\"#00000000\" style=\"display: inline-block; width: 1em; height: 1em; margin: 0; vertical-align: middle; border: 1px solid #555; background-color: #00000000;\"></div></div><div style=\"float: right;\">over <div title=\"#f0fff0ff\" style=\"display: inline-block; width: 1em; height: 1em; margin: 0; vertical-align: middle; border: 1px solid #555; background-color: #f0fff0ff;\"></div></div>"
      ],
      "text/plain": [
       "<matplotlib.colors.ListedColormap at 0x157aacdc0>"
      ]
     },
     "execution_count": 9,
     "metadata": {},
     "output_type": "execute_result"
    }
   ],
   "source": [
    "pink = np.array([248/256, 24/256, 148/256, 1])\n",
    "green = np.array([24/256, 248/256, 148/256, 1])\n",
    "altcolors[110:140] = green\n",
    "altcolors[200:230] = pink\n",
    "\n",
    "altprettycmap = ListedColormap(altcolors)\n",
    "altprettycmap"
   ]
  },
  {
   "cell_type": "markdown",
   "metadata": {},
   "source": [
    "### Advanced Colorbar Sharing with Mosaic Subplots"
   ]
  },
  {
   "cell_type": "code",
   "execution_count": 18,
   "metadata": {},
   "outputs": [
    {
     "data": {
      "text/plain": [
       "<matplotlib.colorbar.Colorbar at 0x158743760>"
      ]
     },
     "execution_count": 18,
     "metadata": {},
     "output_type": "execute_result"
    },
    {
     "data": {
      "image/png": "[encoded data removed]",
      "text/plain": [
       "<Figure size 432x288 with 5 Axes>"
      ]
     },
     "metadata": {
      "needs_background": "light"
     },
     "output_type": "display_data"
    }
   ],
   "source": [
    "axdict = plt.figure(constrained_layout=True).subplot_mosaic(\n",
    "    \"\"\"\n",
    "    AB\n",
    "    CC\n",
    "    \"\"\"\n",
    ")\n",
    "\n",
    "histA = axdict['A'].hist2d(x, y, bins=15, density=True, cmap=prettycmap, norm=norm)\n",
    "histB = axdict['B'].hist2d(x, y, bins=10, density=True, cmap=cbcmap, norm=norm)\n",
    "histC = axdict['C'].hist2d(x, y, bins=30, density=True, cmap=altprettycmap, norm=norm)\n",
    "\n",
    "plt.colorbar(histA[3], ax=[axdict['A'], axdict['B']], location='bottom')\n",
    "plt.colorbar(histC[3], ax=[axdict['C']], location='right')"
   ]
  },
  {
   "cell_type": "markdown",
   "metadata": {},
   "source": [
    "---"
   ]
  },
  {
   "cell_type": "markdown",
   "metadata": {},
   "source": [
    "## Additional Resources\n",
    "- [Plot Types Cheat Sheet](https://lnkd.in/dD5fE8V)\n",
    "- [Choosing Colormaps in Matplotlib](https://matplotlib.org/stable/tutorials/colors/colormaps.html)\n",
    "- [Making custom colormaps](https://matplotlib.org/stable/tutorials/colors/colormap-manipulation.html)\n",
    "- [Complex figure and subplot composition](https://matplotlib.org/stable/tutorials/provisional/mosaic.html#)"
   ]
  },
  {
   "cell_type": "code",
   "execution_count": null,
   "metadata": {},
   "outputs": [],
   "source": []
  }
 ],
 "metadata": {
  "kernelspec": {
   "display_name": "Python 3 (ipykernel)",
   "language": "python",
   "name": "python3"
  },
  "language_info": {
   "codemirror_mode": {
    "name": "ipython",
    "version": 3
   },
   "file_extension": ".py",
   "mimetype": "text/x-python",
   "name": "python",
   "nbconvert_exporter": "python",
   "pygments_lexer": "ipython3",
   "version": "3.9.7"
  }
 },
 "nbformat": 4,
 "nbformat_minor": 4
}
